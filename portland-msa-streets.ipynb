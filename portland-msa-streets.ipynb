{
 "cells": [
  {
   "cell_type": "code",
   "execution_count": 1,
   "metadata": {},
   "outputs": [],
   "source": [
    "import json\n",
    "import osmnx as ox\n",
    "from shapely.geometry import Polygon, shape\n",
    "ox.config(use_cache=True, log_console=True)"
   ]
  },
  {
   "cell_type": "code",
   "execution_count": 2,
   "metadata": {},
   "outputs": [
    {
     "data": {
      "image/svg+xml": [
       "<svg xmlns=\"http://www.w3.org/2000/svg\" xmlns:xlink=\"http://www.w3.org/1999/xlink\" width=\"100.0\" height=\"100.0\" viewBox=\"-123.87502876 44.79523124 2.4431965200000008 1.6838845199999994\" preserveAspectRatio=\"xMinYMin meet\"><g transform=\"matrix(1,0,0,-1,0,91.274347)\"><path fill-rule=\"evenodd\" fill=\"#66cc99\" stroke=\"#555555\" stroke-width=\"0.04886393040000001\" opacity=\"0.6\" d=\"M -123.78454,45.216294 L -123.463518,45.216312 L -123.46488,45.433332 L -123.461181,45.49156 L -123.299438,45.607247 L -123.423273,45.636176 L -123.484726,45.708764 L -123.361028,45.708696 L -123.361622,45.779579 L -123.363744507266,46.1462431943485 L -123.280166,46.144843 L -123.212493591209,46.1710964584003 L -123.166414,46.188973 L -123.115904,46.185268 L -123.004233,46.133823 L -122.962681,46.104817 L -122.904119,46.083734 L -122.856158,46.014469 L -122.813998,45.960984 L -122.81151,45.912725 L -122.785026,45.867699 L -122.78808636259501,45.85100745435609 L -122.719767,45.870903 L -122.719712,45.933256 L -122.657632,45.928134 L -122.477104,45.988089 L -122.357765,45.956915 L -122.245856,46.053853 L -122.240966,46.385361 L -122.236759,46.385893 L -122.114291,46.38648 L -122.03214,46.38781 L -121.522324,46.388627 L -121.522324,46.388224 L -121.522321,46.044006 L -121.612232,46.044093 L -121.609246,45.782519 L -121.52400610422,45.7238362251992 L -121.533106,45.726541 L -121.668362,45.705082 L -121.735104,45.694039 L -121.811304,45.706761 L -121.867167,45.693277 L -121.900858,45.662009 L -121.92374936198502,45.654349508969396 L -121.90661,45.52123 L -121.819587,45.461675 L -121.696925,45.373564 L -121.696479,45.25792 L -121.681525,45.248818 L -121.731438,45.170633 L -121.652638,45.101992 L -121.65871,45.066355 L -121.804426,45.012877 L -121.734223,44.88572 L -122.401021,44.88572 L -122.535999,44.937161 L -122.595523,45.019679 L -122.705115,45.059023 L -122.787007,45.128625 L -122.73903,45.259359 L -122.849925,45.259697 L -122.870602,45.253475 L -122.968666,45.284729 L -123.04117,45.220788 L -122.996693,45.117063 L -123.068667,45.07486 L -123.724368,45.076226 L -123.784218,45.076655 L -123.78454,45.216294 z\" /></g></svg>"
      ],
      "text/plain": [
       "<shapely.geometry.polygon.Polygon at 0x206a95eb550>"
      ]
     },
     "execution_count": 2,
     "metadata": {},
     "output_type": "execute_result"
    }
   ],
   "source": [
    "with open('portland_msa.json') as f:\n",
    "    geojson = json.load(f)\n",
    "    geom = Polygon(shape(geojson))\n",
    "geom"
   ]
  },
  {
   "cell_type": "code",
   "execution_count": 3,
   "metadata": {},
   "outputs": [
    {
     "data": {
      "image/svg+xml": [
       "<svg xmlns=\"http://www.w3.org/2000/svg\" xmlns:xlink=\"http://www.w3.org/1999/xlink\" width=\"100.0\" height=\"100.0\" viewBox=\"-123.87502876 44.79523124 2.4431965200000008 1.6838845199999994\" preserveAspectRatio=\"xMinYMin meet\"><g transform=\"matrix(1,0,0,-1,0,91.274347)\"><path fill-rule=\"evenodd\" fill=\"#66cc99\" stroke=\"#555555\" stroke-width=\"0.04886393040000001\" opacity=\"0.6\" d=\"M -122.401021,44.88572 L -123.784218,45.076655 L -123.78454,45.216294 L -123.363744507266,46.1462431943485 L -123.166414,46.188973 L -122.240966,46.385361 L -122.236759,46.385893 L -122.03214,46.38781 L -121.522324,46.388627 L -121.522321,46.044006 L -121.52400610422,45.7238362251992 L -121.65871,45.066355 L -121.734223,44.88572 L -122.401021,44.88572 z\" /></g></svg>"
      ],
      "text/plain": [
       "<shapely.geometry.polygon.Polygon at 0x206a95eba58>"
      ]
     },
     "execution_count": 3,
     "metadata": {},
     "output_type": "execute_result"
    }
   ],
   "source": [
    "hull = geom.convex_hull\n",
    "hull"
   ]
  },
  {
   "cell_type": "code",
   "execution_count": 4,
   "metadata": {},
   "outputs": [],
   "source": [
    "G = ox.graph_from_polygon(hull, network_type='drive', simplify=False, truncate_by_edge=False, name='Portland_MSA')"
   ]
  },
  {
   "cell_type": "code",
   "execution_count": 5,
   "metadata": {},
   "outputs": [],
   "source": [
    "G_proj = ox.project_graph(G)"
   ]
  },
  {
   "cell_type": "code",
   "execution_count": 6,
   "metadata": {},
   "outputs": [],
   "source": [
    "G_proj_simp = ox.simplify_graph(G_proj)"
   ]
  },
  {
   "cell_type": "code",
   "execution_count": 7,
   "metadata": {},
   "outputs": [],
   "source": [
    "G_proj_simp_undir = ox.get_undirected(G_proj_simp)"
   ]
  },
  {
   "cell_type": "code",
   "execution_count": 8,
   "metadata": {},
   "outputs": [],
   "source": [
    "fig, ax = ox.plot_graph(G_proj_simp_undir, file_format='png', dpi=2500, node_size=0, edge_linewidth=0.05,\n",
    "                        show=False, save=True, close=True, filename='portland')"
   ]
  },
  {
   "cell_type": "code",
   "execution_count": 9,
   "metadata": {},
   "outputs": [],
   "source": [
    "fig, ax = ox.plot_graph(G_proj_simp_undir, file_format='svg', show=False, save=True, close=True, filename='portland')"
   ]
  },
  {
   "cell_type": "code",
   "execution_count": 10,
   "metadata": {},
   "outputs": [],
   "source": [
    "ox.save_graph_shapefile(G_proj_simp_undir, filename='portland')"
   ]
  },
  {
   "cell_type": "code",
   "execution_count": null,
   "metadata": {},
   "outputs": [],
   "source": []
  }
 ],
 "metadata": {
  "kernelspec": {
   "display_name": "Python 3",
   "language": "python",
   "name": "python3"
  },
  "language_info": {
   "codemirror_mode": {
    "name": "ipython",
    "version": 3
   },
   "file_extension": ".py",
   "mimetype": "text/x-python",
   "name": "python",
   "nbconvert_exporter": "python",
   "pygments_lexer": "ipython3",
   "version": "3.6.4"
  }
 },
 "nbformat": 4,
 "nbformat_minor": 2
}
